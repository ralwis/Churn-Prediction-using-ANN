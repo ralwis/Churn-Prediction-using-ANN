{
 "cells": [
  {
   "cell_type": "markdown",
   "metadata": {},
   "source": [
    "### Selection Assessment  - Engineering Analytics - Dialog Axiata PLC\n",
    "\n",
    "#### Name: < Ravindu Alwis >\n",
    "#### E Mail: < ravindurcg99@yahoo.com >"
   ]
  },
  {
   "cell_type": "markdown",
   "metadata": {},
   "source": [
    "## The explanation part and answers to the given questions are highlighted in yellow."
   ]
  },
  {
   "cell_type": "markdown",
   "metadata": {},
   "source": [
    "### Part (a)\n",
    "#### Load and assess \"cx_churn_data.csv\" dataset.\n",
    "\n",
    "Explain how data was loaded..."
   ]
  },
  {
   "cell_type": "markdown",
   "metadata": {},
   "source": [
    "<span style='background:yellow'>Used pandas python package to load the cx_churn_data.csv file. </span> "
   ]
  },
  {
   "cell_type": "code",
   "execution_count": 1,
   "metadata": {
    "scrolled": true
   },
   "outputs": [
    {
     "data": {
      "text/html": [
       "<div>\n",
       "<style scoped>\n",
       "    .dataframe tbody tr th:only-of-type {\n",
       "        vertical-align: middle;\n",
       "    }\n",
       "\n",
       "    .dataframe tbody tr th {\n",
       "        vertical-align: top;\n",
       "    }\n",
       "\n",
       "    .dataframe thead th {\n",
       "        text-align: right;\n",
       "    }\n",
       "</style>\n",
       "<table border=\"1\" class=\"dataframe\">\n",
       "  <thead>\n",
       "    <tr style=\"text-align: right;\">\n",
       "      <th></th>\n",
       "      <th>cx_id</th>\n",
       "      <th>gender</th>\n",
       "      <th>senior_citizen</th>\n",
       "      <th>partner</th>\n",
       "      <th>dependents</th>\n",
       "      <th>tenure</th>\n",
       "      <th>phone_service</th>\n",
       "      <th>multiple_connections</th>\n",
       "      <th>internet_connection_type</th>\n",
       "      <th>device_insurance</th>\n",
       "      <th>call_center_support</th>\n",
       "      <th>dtv</th>\n",
       "      <th>dtv_viu</th>\n",
       "      <th>account_type</th>\n",
       "      <th>e_bill</th>\n",
       "      <th>payment_method</th>\n",
       "      <th>monthly_bill</th>\n",
       "      <th>total_bill</th>\n",
       "      <th>churn</th>\n",
       "    </tr>\n",
       "  </thead>\n",
       "  <tbody>\n",
       "    <tr>\n",
       "      <th>0</th>\n",
       "      <td>7590-VHVEG</td>\n",
       "      <td>Female</td>\n",
       "      <td>0</td>\n",
       "      <td>Yes</td>\n",
       "      <td>No</td>\n",
       "      <td>1</td>\n",
       "      <td>No</td>\n",
       "      <td>No phone service</td>\n",
       "      <td>HBB</td>\n",
       "      <td>No</td>\n",
       "      <td>No</td>\n",
       "      <td>No</td>\n",
       "      <td>No</td>\n",
       "      <td>prepaid</td>\n",
       "      <td>Yes</td>\n",
       "      <td>app</td>\n",
       "      <td>29.85</td>\n",
       "      <td>29.85</td>\n",
       "      <td>No</td>\n",
       "    </tr>\n",
       "    <tr>\n",
       "      <th>1</th>\n",
       "      <td>5575-GNVDE</td>\n",
       "      <td>Male</td>\n",
       "      <td>0</td>\n",
       "      <td>No</td>\n",
       "      <td>No</td>\n",
       "      <td>34</td>\n",
       "      <td>Yes</td>\n",
       "      <td>No</td>\n",
       "      <td>HBB</td>\n",
       "      <td>Yes</td>\n",
       "      <td>No</td>\n",
       "      <td>No</td>\n",
       "      <td>No</td>\n",
       "      <td>postpaid</td>\n",
       "      <td>No</td>\n",
       "      <td>cash</td>\n",
       "      <td>56.95</td>\n",
       "      <td>1889.5</td>\n",
       "      <td>No</td>\n",
       "    </tr>\n",
       "    <tr>\n",
       "      <th>2</th>\n",
       "      <td>3668-QPYBK</td>\n",
       "      <td>Male</td>\n",
       "      <td>0</td>\n",
       "      <td>No</td>\n",
       "      <td>No</td>\n",
       "      <td>2</td>\n",
       "      <td>Yes</td>\n",
       "      <td>No</td>\n",
       "      <td>HBB</td>\n",
       "      <td>No</td>\n",
       "      <td>No</td>\n",
       "      <td>No</td>\n",
       "      <td>No</td>\n",
       "      <td>prepaid</td>\n",
       "      <td>Yes</td>\n",
       "      <td>cash</td>\n",
       "      <td>53.85</td>\n",
       "      <td>108.15</td>\n",
       "      <td>Yes</td>\n",
       "    </tr>\n",
       "    <tr>\n",
       "      <th>3</th>\n",
       "      <td>7795-CFOCW</td>\n",
       "      <td>Male</td>\n",
       "      <td>0</td>\n",
       "      <td>No</td>\n",
       "      <td>No</td>\n",
       "      <td>45</td>\n",
       "      <td>No</td>\n",
       "      <td>No phone service</td>\n",
       "      <td>HBB</td>\n",
       "      <td>Yes</td>\n",
       "      <td>Yes</td>\n",
       "      <td>No</td>\n",
       "      <td>No</td>\n",
       "      <td>postpaid</td>\n",
       "      <td>No</td>\n",
       "      <td>bank transfer</td>\n",
       "      <td>42.30</td>\n",
       "      <td>1840.75</td>\n",
       "      <td>No</td>\n",
       "    </tr>\n",
       "    <tr>\n",
       "      <th>4</th>\n",
       "      <td>9237-HQITU</td>\n",
       "      <td>Female</td>\n",
       "      <td>0</td>\n",
       "      <td>No</td>\n",
       "      <td>No</td>\n",
       "      <td>2</td>\n",
       "      <td>Yes</td>\n",
       "      <td>No</td>\n",
       "      <td>MBB</td>\n",
       "      <td>No</td>\n",
       "      <td>No</td>\n",
       "      <td>No</td>\n",
       "      <td>No</td>\n",
       "      <td>prepaid</td>\n",
       "      <td>Yes</td>\n",
       "      <td>app</td>\n",
       "      <td>70.70</td>\n",
       "      <td>151.65</td>\n",
       "      <td>Yes</td>\n",
       "    </tr>\n",
       "  </tbody>\n",
       "</table>\n",
       "</div>"
      ],
      "text/plain": [
       "        cx_id  gender senior_citizen partner dependents  tenure phone_service  \\\n",
       "0  7590-VHVEG  Female              0     Yes         No       1            No   \n",
       "1  5575-GNVDE    Male              0      No         No      34           Yes   \n",
       "2  3668-QPYBK    Male              0      No         No       2           Yes   \n",
       "3  7795-CFOCW    Male              0      No         No      45            No   \n",
       "4  9237-HQITU  Female              0      No         No       2           Yes   \n",
       "\n",
       "  multiple_connections internet_connection_type device_insurance  \\\n",
       "0     No phone service                      HBB               No   \n",
       "1                   No                      HBB              Yes   \n",
       "2                   No                      HBB               No   \n",
       "3     No phone service                      HBB              Yes   \n",
       "4                   No                      MBB               No   \n",
       "\n",
       "  call_center_support dtv dtv_viu account_type e_bill payment_method  \\\n",
       "0                  No  No      No      prepaid    Yes            app   \n",
       "1                  No  No      No     postpaid     No           cash   \n",
       "2                  No  No      No      prepaid    Yes           cash   \n",
       "3                 Yes  No      No     postpaid     No  bank transfer   \n",
       "4                  No  No      No      prepaid    Yes            app   \n",
       "\n",
       "   monthly_bill total_bill churn  \n",
       "0         29.85      29.85    No  \n",
       "1         56.95     1889.5    No  \n",
       "2         53.85     108.15   Yes  \n",
       "3         42.30    1840.75    No  \n",
       "4         70.70     151.65   Yes  "
      ]
     },
     "execution_count": 1,
     "metadata": {},
     "output_type": "execute_result"
    }
   ],
   "source": [
    "import pandas as pd\n",
    "\n",
    "df = pd.read_csv(\"cx_churn_data.csv\")\n",
    "df.head()"
   ]
  },
  {
   "cell_type": "markdown",
   "metadata": {},
   "source": [
    "<span style='background:yellow'> The loaded data frame has named as df. </span> "
   ]
  },
  {
   "cell_type": "markdown",
   "metadata": {},
   "source": [
    "Explain the challenges encountered and describe dataset."
   ]
  },
  {
   "cell_type": "markdown",
   "metadata": {},
   "source": [
    "<span style='background:yellow'> Only the initial part of the data frame shows above. The Data frame has the customer's data that is related to the company. </span>"
   ]
  },
  {
   "cell_type": "markdown",
   "metadata": {},
   "source": [
    "### Part (b)\n",
    "#### Data cleansing"
   ]
  },
  {
   "cell_type": "markdown",
   "metadata": {},
   "source": [
    "<span style='background:yellow'> The following part doing for cleansing the data. Firstly monitored the unique data in specific columns. </span>"
   ]
  },
  {
   "cell_type": "code",
   "execution_count": 2,
   "metadata": {
    "scrolled": true
   },
   "outputs": [
    {
     "data": {
      "text/plain": [
       "Male      3555\n",
       "Female    3488\n",
       "Name: gender, dtype: int64"
      ]
     },
     "execution_count": 2,
     "metadata": {},
     "output_type": "execute_result"
    }
   ],
   "source": [
    "df['gender'].value_counts()"
   ]
  },
  {
   "cell_type": "markdown",
   "metadata": {},
   "source": [
    "<span style='background:yellow'> The following part shows there are 6 varieties of data in the senior_citizen column instead of 2 varieties. </span>"
   ]
  },
  {
   "cell_type": "code",
   "execution_count": 3,
   "metadata": {
    "scrolled": true
   },
   "outputs": [
    {
     "data": {
      "text/plain": [
       "0      5899\n",
       "1      1138\n",
       "yes       3\n",
       "no        1\n",
       "y         1\n",
       "n         1\n",
       "Name: senior_citizen, dtype: int64"
      ]
     },
     "execution_count": 3,
     "metadata": {},
     "output_type": "execute_result"
    }
   ],
   "source": [
    "df['senior_citizen'].value_counts()"
   ]
  },
  {
   "cell_type": "markdown",
   "metadata": {},
   "source": [
    "<span style='background:yellow'> After identifying a variety of senior_citizen column data, changed them in a suitable way. </span>"
   ]
  },
  {
   "cell_type": "code",
   "execution_count": 4,
   "metadata": {},
   "outputs": [
    {
     "data": {
      "text/plain": [
       "No     5901\n",
       "Yes    1142\n",
       "Name: senior_citizen, dtype: int64"
      ]
     },
     "execution_count": 4,
     "metadata": {},
     "output_type": "execute_result"
    }
   ],
   "source": [
    "df['senior_citizen'] = df['senior_citizen'].replace({'yes':'Yes','no':'No','y':'Yes','n':'No','1':'Yes','0':'No'})\n",
    "df['senior_citizen'].value_counts()"
   ]
  },
  {
   "cell_type": "code",
   "execution_count": 5,
   "metadata": {},
   "outputs": [
    {
     "data": {
      "text/plain": [
       "No     3641\n",
       "Yes    3402\n",
       "Name: partner, dtype: int64"
      ]
     },
     "execution_count": 5,
     "metadata": {},
     "output_type": "execute_result"
    }
   ],
   "source": [
    "df['partner'].value_counts()"
   ]
  },
  {
   "cell_type": "code",
   "execution_count": 6,
   "metadata": {},
   "outputs": [
    {
     "data": {
      "text/plain": [
       "No     4932\n",
       "Yes    2110\n",
       "Name: dependents, dtype: int64"
      ]
     },
     "execution_count": 6,
     "metadata": {},
     "output_type": "execute_result"
    }
   ],
   "source": [
    "df['dependents'].value_counts()"
   ]
  },
  {
   "cell_type": "code",
   "execution_count": 7,
   "metadata": {},
   "outputs": [
    {
     "data": {
      "text/plain": [
       "Yes    6359\n",
       "No      682\n",
       "Name: phone_service, dtype: int64"
      ]
     },
     "execution_count": 7,
     "metadata": {},
     "output_type": "execute_result"
    }
   ],
   "source": [
    "df['phone_service'].value_counts()"
   ]
  },
  {
   "cell_type": "code",
   "execution_count": 8,
   "metadata": {},
   "outputs": [
    {
     "data": {
      "text/plain": [
       "No                  3390\n",
       "Yes                 2971\n",
       "No phone service     682\n",
       "Name: multiple_connections, dtype: int64"
      ]
     },
     "execution_count": 8,
     "metadata": {},
     "output_type": "execute_result"
    }
   ],
   "source": [
    "df['multiple_connections'].value_counts()"
   ]
  },
  {
   "cell_type": "code",
   "execution_count": 9,
   "metadata": {},
   "outputs": [
    {
     "data": {
      "text/plain": [
       "MBB    3095\n",
       "HBB    2419\n",
       "No     1526\n",
       "Name: internet_connection_type, dtype: int64"
      ]
     },
     "execution_count": 9,
     "metadata": {},
     "output_type": "execute_result"
    }
   ],
   "source": [
    "df['internet_connection_type'].value_counts()"
   ]
  },
  {
   "cell_type": "code",
   "execution_count": 10,
   "metadata": {},
   "outputs": [
    {
     "data": {
      "text/plain": [
       "No     4621\n",
       "Yes    2420\n",
       "Name: device_insurance, dtype: int64"
      ]
     },
     "execution_count": 10,
     "metadata": {},
     "output_type": "execute_result"
    }
   ],
   "source": [
    "df['device_insurance'].value_counts()"
   ]
  },
  {
   "cell_type": "code",
   "execution_count": 11,
   "metadata": {},
   "outputs": [
    {
     "data": {
      "text/plain": [
       "No     4998\n",
       "Yes    2041\n",
       "Name: call_center_support, dtype: int64"
      ]
     },
     "execution_count": 11,
     "metadata": {},
     "output_type": "execute_result"
    }
   ],
   "source": [
    "df['call_center_support'].value_counts()"
   ]
  },
  {
   "cell_type": "code",
   "execution_count": 12,
   "metadata": {},
   "outputs": [
    {
     "data": {
      "text/plain": [
       "No     4334\n",
       "Yes    2706\n",
       "Name: dtv, dtype: int64"
      ]
     },
     "execution_count": 12,
     "metadata": {},
     "output_type": "execute_result"
    }
   ],
   "source": [
    "df['dtv'].value_counts()"
   ]
  },
  {
   "cell_type": "code",
   "execution_count": 13,
   "metadata": {},
   "outputs": [
    {
     "data": {
      "text/plain": [
       "No     4310\n",
       "Yes    2731\n",
       "Name: dtv_viu, dtype: int64"
      ]
     },
     "execution_count": 13,
     "metadata": {},
     "output_type": "execute_result"
    }
   ],
   "source": [
    "df['dtv_viu'].value_counts()"
   ]
  },
  {
   "cell_type": "code",
   "execution_count": 14,
   "metadata": {},
   "outputs": [
    {
     "data": {
      "text/plain": [
       "prepaid       3874\n",
       "enterprise    1695\n",
       "postpaid      1473\n",
       "Name: account_type, dtype: int64"
      ]
     },
     "execution_count": 14,
     "metadata": {},
     "output_type": "execute_result"
    }
   ],
   "source": [
    "df['account_type'].value_counts()"
   ]
  },
  {
   "cell_type": "code",
   "execution_count": 15,
   "metadata": {},
   "outputs": [
    {
     "data": {
      "text/plain": [
       "Yes    4171\n",
       "No     2871\n",
       "Name: e_bill, dtype: int64"
      ]
     },
     "execution_count": 15,
     "metadata": {},
     "output_type": "execute_result"
    }
   ],
   "source": [
    "df['e_bill'].value_counts()"
   ]
  },
  {
   "cell_type": "code",
   "execution_count": 16,
   "metadata": {},
   "outputs": [
    {
     "data": {
      "text/plain": [
       "app              2364\n",
       "cash             1612\n",
       "bank transfer    1543\n",
       "credit card      1519\n",
       "Name: payment_method, dtype: int64"
      ]
     },
     "execution_count": 16,
     "metadata": {},
     "output_type": "execute_result"
    }
   ],
   "source": [
    "df['payment_method'].value_counts()"
   ]
  },
  {
   "cell_type": "code",
   "execution_count": 17,
   "metadata": {
    "scrolled": true
   },
   "outputs": [
    {
     "data": {
      "text/plain": [
       "No     5174\n",
       "Yes    1869\n",
       "Name: churn, dtype: int64"
      ]
     },
     "execution_count": 17,
     "metadata": {},
     "output_type": "execute_result"
    }
   ],
   "source": [
    "df['churn'].value_counts()"
   ]
  },
  {
   "cell_type": "markdown",
   "metadata": {},
   "source": [
    "<span style='background:yellow'> Checked all the specific columns and there are no furthermore varied data columns. </span>"
   ]
  },
  {
   "cell_type": "markdown",
   "metadata": {},
   "source": [
    "<span style='background:yellow'> cx_id column does not need to predict. Due to that remove it from the data frame. </span>"
   ]
  },
  {
   "cell_type": "code",
   "execution_count": 18,
   "metadata": {},
   "outputs": [],
   "source": [
    "df.drop('cx_id',axis='columns',inplace=True)"
   ]
  },
  {
   "cell_type": "markdown",
   "metadata": {},
   "source": [
    "<span style='background:yellow'> The data frame may contain Null values. Followings use to identify Null value included columns. </span>"
   ]
  },
  {
   "cell_type": "code",
   "execution_count": 19,
   "metadata": {
    "scrolled": true
   },
   "outputs": [
    {
     "data": {
      "text/plain": [
       "gender                      0\n",
       "senior_citizen              0\n",
       "partner                     0\n",
       "dependents                  1\n",
       "tenure                      0\n",
       "phone_service               2\n",
       "multiple_connections        0\n",
       "internet_connection_type    3\n",
       "device_insurance            2\n",
       "call_center_support         4\n",
       "dtv                         3\n",
       "dtv_viu                     2\n",
       "account_type                1\n",
       "e_bill                      1\n",
       "payment_method              5\n",
       "monthly_bill                1\n",
       "total_bill                  0\n",
       "churn                       0\n",
       "dtype: int64"
      ]
     },
     "execution_count": 19,
     "metadata": {},
     "output_type": "execute_result"
    }
   ],
   "source": [
    "df.isnull().sum()"
   ]
  },
  {
   "cell_type": "markdown",
   "metadata": {},
   "source": [
    "<span style='background:yellow'> Identifying the total rows that Null values included. </span>"
   ]
  },
  {
   "cell_type": "code",
   "execution_count": 20,
   "metadata": {},
   "outputs": [
    {
     "data": {
      "text/plain": [
       "25"
      ]
     },
     "execution_count": 20,
     "metadata": {},
     "output_type": "execute_result"
    }
   ],
   "source": [
    "df.isnull().sum().sum()"
   ]
  },
  {
   "cell_type": "markdown",
   "metadata": {},
   "source": [
    "<span style='background:yellow'> There are only 25 rows that contain Null values. The total number of data rows in the data frame is 7044. Due to that removing the 25 rows that contain Null values can ignore. After dropping the Null value rows, named the new data frame as new_df. </span>"
   ]
  },
  {
   "cell_type": "code",
   "execution_count": 21,
   "metadata": {
    "scrolled": false
   },
   "outputs": [
    {
     "data": {
      "text/plain": [
       "gender                      0\n",
       "senior_citizen              0\n",
       "partner                     0\n",
       "dependents                  0\n",
       "tenure                      0\n",
       "phone_service               0\n",
       "multiple_connections        0\n",
       "internet_connection_type    0\n",
       "device_insurance            0\n",
       "call_center_support         0\n",
       "dtv                         0\n",
       "dtv_viu                     0\n",
       "account_type                0\n",
       "e_bill                      0\n",
       "payment_method              0\n",
       "monthly_bill                0\n",
       "total_bill                  0\n",
       "churn                       0\n",
       "dtype: int64"
      ]
     },
     "execution_count": 21,
     "metadata": {},
     "output_type": "execute_result"
    }
   ],
   "source": [
    "df.fillna('NaN')\n",
    "new_df = df.dropna(axis=0,how='any')\n",
    "new_df.isnull().sum()"
   ]
  },
  {
   "cell_type": "markdown",
   "metadata": {},
   "source": [
    "<span style='background:yellow'>Identifying the datatypes of each column.</span>"
   ]
  },
  {
   "cell_type": "code",
   "execution_count": 22,
   "metadata": {
    "scrolled": true
   },
   "outputs": [
    {
     "name": "stdout",
     "output_type": "stream",
     "text": [
      "<class 'pandas.core.frame.DataFrame'>\n",
      "Int64Index: 7022 entries, 0 to 7042\n",
      "Data columns (total 18 columns):\n",
      " #   Column                    Non-Null Count  Dtype  \n",
      "---  ------                    --------------  -----  \n",
      " 0   gender                    7022 non-null   object \n",
      " 1   senior_citizen            7022 non-null   object \n",
      " 2   partner                   7022 non-null   object \n",
      " 3   dependents                7022 non-null   object \n",
      " 4   tenure                    7022 non-null   int64  \n",
      " 5   phone_service             7022 non-null   object \n",
      " 6   multiple_connections      7022 non-null   object \n",
      " 7   internet_connection_type  7022 non-null   object \n",
      " 8   device_insurance          7022 non-null   object \n",
      " 9   call_center_support       7022 non-null   object \n",
      " 10  dtv                       7022 non-null   object \n",
      " 11  dtv_viu                   7022 non-null   object \n",
      " 12  account_type              7022 non-null   object \n",
      " 13  e_bill                    7022 non-null   object \n",
      " 14  payment_method            7022 non-null   object \n",
      " 15  monthly_bill              7022 non-null   float64\n",
      " 16  total_bill                7022 non-null   object \n",
      " 17  churn                     7022 non-null   object \n",
      "dtypes: float64(1), int64(1), object(16)\n",
      "memory usage: 1.0+ MB\n"
     ]
    }
   ],
   "source": [
    "new_df.info()"
   ]
  },
  {
   "cell_type": "markdown",
   "metadata": {},
   "source": [
    "<span style='background:yellow'>According to the above step, the data type of the total_bill is not a numeric value.</span>"
   ]
  },
  {
   "cell_type": "code",
   "execution_count": 23,
   "metadata": {},
   "outputs": [
    {
     "data": {
      "text/plain": [
       "array(['29.85', '1889.5', '108.15', ..., '346.45', '306.6', '6844.5'],\n",
       "      dtype=object)"
      ]
     },
     "execution_count": 23,
     "metadata": {},
     "output_type": "execute_result"
    }
   ],
   "source": [
    "new_df.total_bill.values"
   ]
  },
  {
   "cell_type": "markdown",
   "metadata": {},
   "source": [
    "<span style='background:yellow'>Changing the datatype of total_bill column to numeric values. But there was an error to run the code due to the blank values in total_bill column.</span>"
   ]
  },
  {
   "cell_type": "code",
   "execution_count": 24,
   "metadata": {
    "collapsed": true
   },
   "outputs": [
    {
     "ename": "ValueError",
     "evalue": "Unable to parse string \" \" at position 488",
     "output_type": "error",
     "traceback": [
      "\u001b[1;31m---------------------------------------------------------------------------\u001b[0m",
      "\u001b[1;31mValueError\u001b[0m                                Traceback (most recent call last)",
      "\u001b[1;32m~\\anaconda3\\lib\\site-packages\\pandas\\_libs\\lib.pyx\u001b[0m in \u001b[0;36mpandas._libs.lib.maybe_convert_numeric\u001b[1;34m()\u001b[0m\n",
      "\u001b[1;31mValueError\u001b[0m: Unable to parse string \" \"",
      "\nDuring handling of the above exception, another exception occurred:\n",
      "\u001b[1;31mValueError\u001b[0m                                Traceback (most recent call last)",
      "\u001b[1;32m~\\AppData\\Local\\Temp/ipykernel_14544/3346538744.py\u001b[0m in \u001b[0;36m<module>\u001b[1;34m\u001b[0m\n\u001b[1;32m----> 1\u001b[1;33m \u001b[0mpd\u001b[0m\u001b[1;33m.\u001b[0m\u001b[0mto_numeric\u001b[0m\u001b[1;33m(\u001b[0m\u001b[0mnew_df\u001b[0m\u001b[1;33m.\u001b[0m\u001b[0mtotal_bill\u001b[0m\u001b[1;33m)\u001b[0m\u001b[1;33m\u001b[0m\u001b[1;33m\u001b[0m\u001b[0m\n\u001b[0m",
      "\u001b[1;32m~\\anaconda3\\lib\\site-packages\\pandas\\core\\tools\\numeric.py\u001b[0m in \u001b[0;36mto_numeric\u001b[1;34m(arg, errors, downcast)\u001b[0m\n\u001b[0;32m    181\u001b[0m         \u001b[0mcoerce_numeric\u001b[0m \u001b[1;33m=\u001b[0m \u001b[0merrors\u001b[0m \u001b[1;32mnot\u001b[0m \u001b[1;32min\u001b[0m \u001b[1;33m(\u001b[0m\u001b[1;34m\"ignore\"\u001b[0m\u001b[1;33m,\u001b[0m \u001b[1;34m\"raise\"\u001b[0m\u001b[1;33m)\u001b[0m\u001b[1;33m\u001b[0m\u001b[1;33m\u001b[0m\u001b[0m\n\u001b[0;32m    182\u001b[0m         \u001b[1;32mtry\u001b[0m\u001b[1;33m:\u001b[0m\u001b[1;33m\u001b[0m\u001b[1;33m\u001b[0m\u001b[0m\n\u001b[1;32m--> 183\u001b[1;33m             values, _ = lib.maybe_convert_numeric(\n\u001b[0m\u001b[0;32m    184\u001b[0m                 \u001b[0mvalues\u001b[0m\u001b[1;33m,\u001b[0m \u001b[0mset\u001b[0m\u001b[1;33m(\u001b[0m\u001b[1;33m)\u001b[0m\u001b[1;33m,\u001b[0m \u001b[0mcoerce_numeric\u001b[0m\u001b[1;33m=\u001b[0m\u001b[0mcoerce_numeric\u001b[0m\u001b[1;33m\u001b[0m\u001b[1;33m\u001b[0m\u001b[0m\n\u001b[0;32m    185\u001b[0m             )\n",
      "\u001b[1;32m~\\anaconda3\\lib\\site-packages\\pandas\\_libs\\lib.pyx\u001b[0m in \u001b[0;36mpandas._libs.lib.maybe_convert_numeric\u001b[1;34m()\u001b[0m\n",
      "\u001b[1;31mValueError\u001b[0m: Unable to parse string \" \" at position 488"
     ]
    }
   ],
   "source": [
    "pd.to_numeric(new_df.total_bill)"
   ]
  },
  {
   "cell_type": "markdown",
   "metadata": {},
   "source": [
    "<span style='background:yellow'>Counting the Null value rows in total_bill row.</span>"
   ]
  },
  {
   "cell_type": "code",
   "execution_count": 25,
   "metadata": {},
   "outputs": [
    {
     "data": {
      "text/plain": [
       "11"
      ]
     },
     "execution_count": 25,
     "metadata": {},
     "output_type": "execute_result"
    }
   ],
   "source": [
    "df.query(\" total_bill ==' ' \").shape[0]"
   ]
  },
  {
   "cell_type": "markdown",
   "metadata": {},
   "source": [
    "<span style='background:yellow'>There are only 11 Null value rows. Due to that remove the Null value rows from total_bill column and assigning new values to the total_bill column.</span>"
   ]
  },
  {
   "cell_type": "code",
   "execution_count": 26,
   "metadata": {},
   "outputs": [],
   "source": [
    "new_df = new_df[new_df.total_bill!=' ']\n",
    "new_df.total_bill = pd.to_numeric(new_df.total_bill)"
   ]
  },
  {
   "cell_type": "markdown",
   "metadata": {},
   "source": [
    "<span style='background:yellow'>During the above step identified the data type of the tenure column is an integer. Changed it to float data type if there are calculations.</span>"
   ]
  },
  {
   "cell_type": "code",
   "execution_count": 27,
   "metadata": {},
   "outputs": [],
   "source": [
    "new_df['tenure'] = new_df['tenure'].astype(float)"
   ]
  },
  {
   "cell_type": "code",
   "execution_count": 28,
   "metadata": {
    "scrolled": true
   },
   "outputs": [
    {
     "name": "stdout",
     "output_type": "stream",
     "text": [
      "<class 'pandas.core.frame.DataFrame'>\n",
      "Int64Index: 7011 entries, 0 to 7042\n",
      "Data columns (total 18 columns):\n",
      " #   Column                    Non-Null Count  Dtype  \n",
      "---  ------                    --------------  -----  \n",
      " 0   gender                    7011 non-null   object \n",
      " 1   senior_citizen            7011 non-null   object \n",
      " 2   partner                   7011 non-null   object \n",
      " 3   dependents                7011 non-null   object \n",
      " 4   tenure                    7011 non-null   float64\n",
      " 5   phone_service             7011 non-null   object \n",
      " 6   multiple_connections      7011 non-null   object \n",
      " 7   internet_connection_type  7011 non-null   object \n",
      " 8   device_insurance          7011 non-null   object \n",
      " 9   call_center_support       7011 non-null   object \n",
      " 10  dtv                       7011 non-null   object \n",
      " 11  dtv_viu                   7011 non-null   object \n",
      " 12  account_type              7011 non-null   object \n",
      " 13  e_bill                    7011 non-null   object \n",
      " 14  payment_method            7011 non-null   object \n",
      " 15  monthly_bill              7011 non-null   float64\n",
      " 16  total_bill                7011 non-null   float64\n",
      " 17  churn                     7011 non-null   object \n",
      "dtypes: float64(3), object(15)\n",
      "memory usage: 1.0+ MB\n"
     ]
    }
   ],
   "source": [
    "new_df.info()"
   ]
  },
  {
   "cell_type": "markdown",
   "metadata": {},
   "source": [
    "<span style='background:yellow'>Identifying the unique values in each column that data type was the object. </span>"
   ]
  },
  {
   "cell_type": "code",
   "execution_count": 29,
   "metadata": {
    "scrolled": true
   },
   "outputs": [
    {
     "name": "stdout",
     "output_type": "stream",
     "text": [
      "gender: ['Female' 'Male']\n",
      "senior_citizen: ['No' 'Yes']\n",
      "partner: ['Yes' 'No']\n",
      "dependents: ['No' 'Yes']\n",
      "phone_service: ['No' 'Yes']\n",
      "multiple_connections: ['No phone service' 'No' 'Yes']\n",
      "internet_connection_type: ['HBB' 'MBB' 'No']\n",
      "device_insurance: ['No' 'Yes']\n",
      "call_center_support: ['No' 'Yes']\n",
      "dtv: ['No' 'Yes']\n",
      "dtv_viu: ['No' 'Yes']\n",
      "account_type: ['prepaid' 'postpaid' 'enterprise']\n",
      "e_bill: ['Yes' 'No']\n",
      "payment_method: ['app' 'cash' 'bank transfer' 'credit card']\n",
      "churn: ['No' 'Yes']\n"
     ]
    }
   ],
   "source": [
    "def unique_column_values(new_df):\n",
    "       for column in new_df:\n",
    "            if new_df[column].dtypes=='object':\n",
    "                print(f'{column}: {new_df[column].unique()}') \n",
    "\n",
    "unique_column_values(new_df)"
   ]
  },
  {
   "cell_type": "markdown",
   "metadata": {},
   "source": [
    "<span style='background:yellow'>Setting 1 and 0 to columns that contain the unique values as Yes and No. </span>"
   ]
  },
  {
   "cell_type": "code",
   "execution_count": 30,
   "metadata": {
    "scrolled": true
   },
   "outputs": [
    {
     "name": "stdout",
     "output_type": "stream",
     "text": [
      "gender: ['Female' 'Male']\n",
      "senior_citizen: [0 1]\n",
      "partner: [1 0]\n",
      "dependents: [0 1]\n",
      "tenure: [ 1. 34.  2. 45.  8. 22. 10. 28. 62. 13. 16. 58. 49. 25. 69. 52. 71. 21.\n",
      " 12. 30. 47. 72. 17. 27.  5. 46. 11. 70. 63. 43. 15. 60. 18. 66.  9.  3.\n",
      " 31. 50. 64. 56.  7. 42. 35. 48. 29. 65. 38. 68. 32. 55. 37. 36. 41.  6.\n",
      "  4. 33. 67. 23. 57. 61. 14. 20. 53. 40. 59. 24. 44. 19. 54. 51. 26. 39.]\n",
      "phone_service: [0 1]\n",
      "multiple_connections: ['No phone service' 'No' 'Yes']\n",
      "internet_connection_type: ['HBB' 'MBB' 'No']\n",
      "device_insurance: [0 1]\n",
      "call_center_support: [0 1]\n",
      "dtv: [0 1]\n",
      "dtv_viu: [0 1]\n",
      "account_type: ['prepaid' 'postpaid' 'enterprise']\n",
      "e_bill: [1 0]\n",
      "payment_method: ['app' 'cash' 'bank transfer' 'credit card']\n",
      "monthly_bill: [29.85 56.95 53.85 ... 63.1  44.2  78.7 ]\n",
      "total_bill: [  29.85 1889.5   108.15 ...  346.45  306.6  6844.5 ]\n",
      "churn: [0 1]\n"
     ]
    }
   ],
   "source": [
    "binary_value_columns = ['senior_citizen','partner','dependents','phone_service','device_insurance','call_center_support','dtv','dtv_viu','e_bill','churn']\n",
    "for column in binary_value_columns:\n",
    "    new_df[column].replace({'Yes': 1,'No': 0},inplace=True)\n",
    "\n",
    "for column in new_df:\n",
    "    print(f'{column}: {new_df[column].unique()}')"
   ]
  },
  {
   "cell_type": "markdown",
   "metadata": {},
   "source": [
    "<span style='background:yellow'>Setting 1 and 0 to the gender column. </span>"
   ]
  },
  {
   "cell_type": "code",
   "execution_count": 31,
   "metadata": {
    "scrolled": true
   },
   "outputs": [
    {
     "name": "stdout",
     "output_type": "stream",
     "text": [
      "gender: [0 1]\n",
      "senior_citizen: [0 1]\n",
      "partner: [1 0]\n",
      "dependents: [0 1]\n",
      "tenure: [ 1. 34.  2. 45.  8. 22. 10. 28. 62. 13. 16. 58. 49. 25. 69. 52. 71. 21.\n",
      " 12. 30. 47. 72. 17. 27.  5. 46. 11. 70. 63. 43. 15. 60. 18. 66.  9.  3.\n",
      " 31. 50. 64. 56.  7. 42. 35. 48. 29. 65. 38. 68. 32. 55. 37. 36. 41.  6.\n",
      "  4. 33. 67. 23. 57. 61. 14. 20. 53. 40. 59. 24. 44. 19. 54. 51. 26. 39.]\n",
      "phone_service: [0 1]\n",
      "multiple_connections: ['No phone service' 'No' 'Yes']\n",
      "internet_connection_type: ['HBB' 'MBB' 'No']\n",
      "device_insurance: [0 1]\n",
      "call_center_support: [0 1]\n",
      "dtv: [0 1]\n",
      "dtv_viu: [0 1]\n",
      "account_type: ['prepaid' 'postpaid' 'enterprise']\n",
      "e_bill: [1 0]\n",
      "payment_method: ['app' 'cash' 'bank transfer' 'credit card']\n",
      "monthly_bill: [29.85 56.95 53.85 ... 63.1  44.2  78.7 ]\n",
      "total_bill: [  29.85 1889.5   108.15 ...  346.45  306.6  6844.5 ]\n",
      "churn: [0 1]\n"
     ]
    }
   ],
   "source": [
    "new_df['gender'].replace({'Male':1,'Female':0},inplace=True)\n",
    "\n",
    "for column in new_df:\n",
    "    print(f'{column}: {new_df[column].unique()}')"
   ]
  },
  {
   "cell_type": "markdown",
   "metadata": {},
   "source": [
    "<span style='background:yellow'>Manipulating data in 'multiple_connections', 'internet_connection_type', 'account_type', and 'payment_method' columns by converts to dummies. </span>"
   ]
  },
  {
   "cell_type": "code",
   "execution_count": 32,
   "metadata": {
    "scrolled": false
   },
   "outputs": [
    {
     "data": {
      "text/html": [
       "<div>\n",
       "<style scoped>\n",
       "    .dataframe tbody tr th:only-of-type {\n",
       "        vertical-align: middle;\n",
       "    }\n",
       "\n",
       "    .dataframe tbody tr th {\n",
       "        vertical-align: top;\n",
       "    }\n",
       "\n",
       "    .dataframe thead th {\n",
       "        text-align: right;\n",
       "    }\n",
       "</style>\n",
       "<table border=\"1\" class=\"dataframe\">\n",
       "  <thead>\n",
       "    <tr style=\"text-align: right;\">\n",
       "      <th></th>\n",
       "      <th>gender</th>\n",
       "      <th>senior_citizen</th>\n",
       "      <th>partner</th>\n",
       "      <th>dependents</th>\n",
       "      <th>tenure</th>\n",
       "      <th>phone_service</th>\n",
       "      <th>device_insurance</th>\n",
       "      <th>call_center_support</th>\n",
       "      <th>dtv</th>\n",
       "      <th>dtv_viu</th>\n",
       "      <th>...</th>\n",
       "      <th>internet_connection_type_HBB</th>\n",
       "      <th>internet_connection_type_MBB</th>\n",
       "      <th>internet_connection_type_No</th>\n",
       "      <th>account_type_enterprise</th>\n",
       "      <th>account_type_postpaid</th>\n",
       "      <th>account_type_prepaid</th>\n",
       "      <th>payment_method_app</th>\n",
       "      <th>payment_method_bank transfer</th>\n",
       "      <th>payment_method_cash</th>\n",
       "      <th>payment_method_credit card</th>\n",
       "    </tr>\n",
       "  </thead>\n",
       "  <tbody>\n",
       "    <tr>\n",
       "      <th>0</th>\n",
       "      <td>0</td>\n",
       "      <td>0</td>\n",
       "      <td>1</td>\n",
       "      <td>0</td>\n",
       "      <td>1.0</td>\n",
       "      <td>0</td>\n",
       "      <td>0</td>\n",
       "      <td>0</td>\n",
       "      <td>0</td>\n",
       "      <td>0</td>\n",
       "      <td>...</td>\n",
       "      <td>1</td>\n",
       "      <td>0</td>\n",
       "      <td>0</td>\n",
       "      <td>0</td>\n",
       "      <td>0</td>\n",
       "      <td>1</td>\n",
       "      <td>1</td>\n",
       "      <td>0</td>\n",
       "      <td>0</td>\n",
       "      <td>0</td>\n",
       "    </tr>\n",
       "    <tr>\n",
       "      <th>1</th>\n",
       "      <td>1</td>\n",
       "      <td>0</td>\n",
       "      <td>0</td>\n",
       "      <td>0</td>\n",
       "      <td>34.0</td>\n",
       "      <td>1</td>\n",
       "      <td>1</td>\n",
       "      <td>0</td>\n",
       "      <td>0</td>\n",
       "      <td>0</td>\n",
       "      <td>...</td>\n",
       "      <td>1</td>\n",
       "      <td>0</td>\n",
       "      <td>0</td>\n",
       "      <td>0</td>\n",
       "      <td>1</td>\n",
       "      <td>0</td>\n",
       "      <td>0</td>\n",
       "      <td>0</td>\n",
       "      <td>1</td>\n",
       "      <td>0</td>\n",
       "    </tr>\n",
       "    <tr>\n",
       "      <th>2</th>\n",
       "      <td>1</td>\n",
       "      <td>0</td>\n",
       "      <td>0</td>\n",
       "      <td>0</td>\n",
       "      <td>2.0</td>\n",
       "      <td>1</td>\n",
       "      <td>0</td>\n",
       "      <td>0</td>\n",
       "      <td>0</td>\n",
       "      <td>0</td>\n",
       "      <td>...</td>\n",
       "      <td>1</td>\n",
       "      <td>0</td>\n",
       "      <td>0</td>\n",
       "      <td>0</td>\n",
       "      <td>0</td>\n",
       "      <td>1</td>\n",
       "      <td>0</td>\n",
       "      <td>0</td>\n",
       "      <td>1</td>\n",
       "      <td>0</td>\n",
       "    </tr>\n",
       "    <tr>\n",
       "      <th>3</th>\n",
       "      <td>1</td>\n",
       "      <td>0</td>\n",
       "      <td>0</td>\n",
       "      <td>0</td>\n",
       "      <td>45.0</td>\n",
       "      <td>0</td>\n",
       "      <td>1</td>\n",
       "      <td>1</td>\n",
       "      <td>0</td>\n",
       "      <td>0</td>\n",
       "      <td>...</td>\n",
       "      <td>1</td>\n",
       "      <td>0</td>\n",
       "      <td>0</td>\n",
       "      <td>0</td>\n",
       "      <td>1</td>\n",
       "      <td>0</td>\n",
       "      <td>0</td>\n",
       "      <td>1</td>\n",
       "      <td>0</td>\n",
       "      <td>0</td>\n",
       "    </tr>\n",
       "    <tr>\n",
       "      <th>4</th>\n",
       "      <td>0</td>\n",
       "      <td>0</td>\n",
       "      <td>0</td>\n",
       "      <td>0</td>\n",
       "      <td>2.0</td>\n",
       "      <td>1</td>\n",
       "      <td>0</td>\n",
       "      <td>0</td>\n",
       "      <td>0</td>\n",
       "      <td>0</td>\n",
       "      <td>...</td>\n",
       "      <td>0</td>\n",
       "      <td>1</td>\n",
       "      <td>0</td>\n",
       "      <td>0</td>\n",
       "      <td>0</td>\n",
       "      <td>1</td>\n",
       "      <td>1</td>\n",
       "      <td>0</td>\n",
       "      <td>0</td>\n",
       "      <td>0</td>\n",
       "    </tr>\n",
       "  </tbody>\n",
       "</table>\n",
       "<p>5 rows × 27 columns</p>\n",
       "</div>"
      ],
      "text/plain": [
       "   gender  senior_citizen  partner  dependents  tenure  phone_service  \\\n",
       "0       0               0        1           0     1.0              0   \n",
       "1       1               0        0           0    34.0              1   \n",
       "2       1               0        0           0     2.0              1   \n",
       "3       1               0        0           0    45.0              0   \n",
       "4       0               0        0           0     2.0              1   \n",
       "\n",
       "   device_insurance  call_center_support  dtv  dtv_viu  ...  \\\n",
       "0                 0                    0    0        0  ...   \n",
       "1                 1                    0    0        0  ...   \n",
       "2                 0                    0    0        0  ...   \n",
       "3                 1                    1    0        0  ...   \n",
       "4                 0                    0    0        0  ...   \n",
       "\n",
       "   internet_connection_type_HBB  internet_connection_type_MBB  \\\n",
       "0                             1                             0   \n",
       "1                             1                             0   \n",
       "2                             1                             0   \n",
       "3                             1                             0   \n",
       "4                             0                             1   \n",
       "\n",
       "   internet_connection_type_No  account_type_enterprise  \\\n",
       "0                            0                        0   \n",
       "1                            0                        0   \n",
       "2                            0                        0   \n",
       "3                            0                        0   \n",
       "4                            0                        0   \n",
       "\n",
       "   account_type_postpaid  account_type_prepaid  payment_method_app  \\\n",
       "0                      0                     1                   1   \n",
       "1                      1                     0                   0   \n",
       "2                      0                     1                   0   \n",
       "3                      1                     0                   0   \n",
       "4                      0                     1                   1   \n",
       "\n",
       "   payment_method_bank transfer  payment_method_cash  \\\n",
       "0                             0                    0   \n",
       "1                             0                    1   \n",
       "2                             0                    1   \n",
       "3                             1                    0   \n",
       "4                             0                    0   \n",
       "\n",
       "   payment_method_credit card  \n",
       "0                           0  \n",
       "1                           0  \n",
       "2                           0  \n",
       "3                           0  \n",
       "4                           0  \n",
       "\n",
       "[5 rows x 27 columns]"
      ]
     },
     "execution_count": 32,
     "metadata": {},
     "output_type": "execute_result"
    }
   ],
   "source": [
    "new_df = pd.get_dummies(data=new_df, columns=['multiple_connections','internet_connection_type','account_type','payment_method'])\n",
    "new_df.head()"
   ]
  },
  {
   "cell_type": "markdown",
   "metadata": {},
   "source": [
    "<span style='background:yellow'>Setting 'tenure', 'monthly_bill' and 'total_bill' column values to between 1 and 0. </span>"
   ]
  },
  {
   "cell_type": "code",
   "execution_count": 33,
   "metadata": {},
   "outputs": [
    {
     "name": "stdout",
     "output_type": "stream",
     "text": [
      "gender: [0 1]\n",
      "senior_citizen: [0 1]\n",
      "partner: [1 0]\n",
      "dependents: [0 1]\n",
      "tenure: [0.         0.46478873 0.01408451 0.61971831 0.09859155 0.29577465\n",
      " 0.12676056 0.38028169 0.85915493 0.16901408 0.21126761 0.8028169\n",
      " 0.67605634 0.33802817 0.95774648 0.71830986 0.98591549 0.28169014\n",
      " 0.15492958 0.4084507  0.64788732 1.         0.22535211 0.36619718\n",
      " 0.05633803 0.63380282 0.14084507 0.97183099 0.87323944 0.5915493\n",
      " 0.1971831  0.83098592 0.23943662 0.91549296 0.11267606 0.02816901\n",
      " 0.42253521 0.69014085 0.88732394 0.77464789 0.08450704 0.57746479\n",
      " 0.47887324 0.66197183 0.3943662  0.90140845 0.52112676 0.94366197\n",
      " 0.43661972 0.76056338 0.50704225 0.49295775 0.56338028 0.07042254\n",
      " 0.04225352 0.45070423 0.92957746 0.30985915 0.78873239 0.84507042\n",
      " 0.18309859 0.26760563 0.73239437 0.54929577 0.81690141 0.32394366\n",
      " 0.6056338  0.25352113 0.74647887 0.70422535 0.35211268 0.53521127]\n",
      "phone_service: [0 1]\n",
      "device_insurance: [0 1]\n",
      "call_center_support: [0 1]\n",
      "dtv: [0 1]\n",
      "dtv_viu: [0 1]\n",
      "e_bill: [1 0]\n",
      "monthly_bill: [0.11542289 0.38507463 0.35422886 ... 0.44626866 0.25820896 0.60149254]\n",
      "total_bill: [0.0012751  0.21586661 0.01031041 ... 0.03780868 0.03321025 0.78764136]\n",
      "churn: [0 1]\n",
      "multiple_connections_No: [0 1]\n",
      "multiple_connections_No phone service: [1 0]\n",
      "multiple_connections_Yes: [0 1]\n",
      "internet_connection_type_HBB: [1 0]\n",
      "internet_connection_type_MBB: [0 1]\n",
      "internet_connection_type_No: [0 1]\n",
      "account_type_enterprise: [0 1]\n",
      "account_type_postpaid: [0 1]\n",
      "account_type_prepaid: [1 0]\n",
      "payment_method_app: [1 0]\n",
      "payment_method_bank transfer: [0 1]\n",
      "payment_method_cash: [0 1]\n",
      "payment_method_credit card: [0 1]\n"
     ]
    }
   ],
   "source": [
    "scale_columns = ['tenure','monthly_bill','total_bill']\n",
    "\n",
    "from sklearn.preprocessing import MinMaxScaler\n",
    "scaler = MinMaxScaler()\n",
    "new_df[scale_columns] = scaler.fit_transform(new_df[scale_columns])\n",
    "\n",
    "for col in new_df:\n",
    "    print(f'{col}: {new_df[col].unique()}')"
   ]
  },
  {
   "cell_type": "markdown",
   "metadata": {},
   "source": [
    "Describe steps taken to cleanse the dataset"
   ]
  },
  {
   "cell_type": "markdown",
   "metadata": {},
   "source": [
    "### Part (c)\n",
    "#### Fill in missing values using suitable methods. (If required)"
   ]
  },
  {
   "cell_type": "markdown",
   "metadata": {},
   "source": [
    "<span style='background:yellow'>There were 7043 data in the initial dataset. During the cleansing stage firstly removed 25 data rows and then removed 11 data rows. The total number of removed data rows is 36 and considering it with 7043, it can ignore. Due to that does not required to fill the missing values.  </span>"
   ]
  },
  {
   "cell_type": "markdown",
   "metadata": {},
   "source": [
    "Describe methods used and justify."
   ]
  },
  {
   "cell_type": "markdown",
   "metadata": {},
   "source": [
    "### Part (d)\n",
    "#### Account for class imbalance with suitable methods."
   ]
  },
  {
   "cell_type": "markdown",
   "metadata": {},
   "source": [
    "<span style='background:yellow'>Got two variables as x,y and assigned the churn column to y and the rest data to x. Then categorized 15% of the total data as test data and the rest 85% as train data. </span>"
   ]
  },
  {
   "cell_type": "code",
   "execution_count": 34,
   "metadata": {},
   "outputs": [],
   "source": [
    "x = new_df.drop('churn',axis='columns')\n",
    "y = new_df['churn']\n",
    "\n",
    "from sklearn.model_selection import train_test_split\n",
    "x_train, x_test, y_train, y_test = train_test_split(x,y,test_size=0.15,random_state=5)"
   ]
  },
  {
   "cell_type": "markdown",
   "metadata": {},
   "source": [
    "<span style='background:yellow'>By considering values in the churn column, there are 5151 values for 0 and only 1860 for 1. The difference between the quantity of 1 and 0 values is high. Due to that, the data set is unbalanced. </span>"
   ]
  },
  {
   "cell_type": "code",
   "execution_count": 35,
   "metadata": {},
   "outputs": [
    {
     "data": {
      "text/plain": [
       "0    5151\n",
       "1    1860\n",
       "Name: churn, dtype: int64"
      ]
     },
     "execution_count": 35,
     "metadata": {},
     "output_type": "execute_result"
    }
   ],
   "source": [
    "y.value_counts()"
   ]
  },
  {
   "cell_type": "code",
   "execution_count": 36,
   "metadata": {
    "scrolled": true
   },
   "outputs": [
    {
     "data": {
      "text/plain": [
       "0    4385\n",
       "1    1574\n",
       "Name: churn, dtype: int64"
      ]
     },
     "execution_count": 36,
     "metadata": {},
     "output_type": "execute_result"
    }
   ],
   "source": [
    "y_train.value_counts()"
   ]
  },
  {
   "cell_type": "code",
   "execution_count": 37,
   "metadata": {
    "scrolled": true
   },
   "outputs": [
    {
     "data": {
      "text/plain": [
       "0    766\n",
       "1    286\n",
       "Name: churn, dtype: int64"
      ]
     },
     "execution_count": 37,
     "metadata": {},
     "output_type": "execute_result"
    }
   ],
   "source": [
    "y_test.value_counts()"
   ]
  },
  {
   "cell_type": "code",
   "execution_count": 38,
   "metadata": {},
   "outputs": [
    {
     "data": {
      "text/plain": [
       "(5959, 26)"
      ]
     },
     "execution_count": 38,
     "metadata": {},
     "output_type": "execute_result"
    }
   ],
   "source": [
    "x_train.shape"
   ]
  },
  {
   "cell_type": "code",
   "execution_count": 39,
   "metadata": {
    "scrolled": true
   },
   "outputs": [
    {
     "data": {
      "text/plain": [
       "(1052, 26)"
      ]
     },
     "execution_count": 39,
     "metadata": {},
     "output_type": "execute_result"
    }
   ],
   "source": [
    "x_test.shape"
   ]
  },
  {
   "cell_type": "markdown",
   "metadata": {},
   "source": [
    "<span style='background:yellow'>There are two techniques as Under Sampling and Over Sampling to handle the imbalanced data. The simple definition of Under Sampling is reducing the number of data to balance the data set. In the Over Sampling increasing the number of data to balanced the dataset. </span>"
   ]
  },
  {
   "cell_type": "markdown",
   "metadata": {},
   "source": [
    "<span style='background:yellow'>Here used SMOTE method to increase the data to balance the dataset. It takes an instance randomly from the minority class and find its nearest k value neighbors from the minority class itself. Then one of the neighbors gets chosen randomly and draws the line between these two instances. New data sets are generating from the convex combination of these two instances. </span>"
   ]
  },
  {
   "cell_type": "markdown",
   "metadata": {},
   "source": [
    "<span style='background:yellow'>The results of the this method better than Oversampling method because in the oversampling duplicated the same data to balance the datasets. </span>"
   ]
  },
  {
   "cell_type": "code",
   "execution_count": 40,
   "metadata": {
    "collapsed": true
   },
   "outputs": [
    {
     "name": "stdout",
     "output_type": "stream",
     "text": [
      "Requirement already satisfied: imblearn in c:\\users\\user\\anaconda3\\lib\\site-packages (0.0)\n",
      "Requirement already satisfied: imbalanced-learn in c:\\users\\user\\anaconda3\\lib\\site-packages (from imblearn) (0.9.1)\n",
      "Requirement already satisfied: threadpoolctl>=2.0.0 in c:\\users\\user\\anaconda3\\lib\\site-packages (from imbalanced-learn->imblearn) (2.2.0)\n",
      "Requirement already satisfied: scipy>=1.3.2 in c:\\users\\user\\anaconda3\\lib\\site-packages (from imbalanced-learn->imblearn) (1.7.1)\n",
      "Requirement already satisfied: joblib>=1.0.0 in c:\\users\\user\\anaconda3\\lib\\site-packages (from imbalanced-learn->imblearn) (1.1.0)\n",
      "Requirement already satisfied: numpy>=1.17.3 in c:\\users\\user\\anaconda3\\lib\\site-packages (from imbalanced-learn->imblearn) (1.20.3)\n",
      "Requirement already satisfied: scikit-learn>=1.1.0 in c:\\users\\user\\anaconda3\\lib\\site-packages (from imbalanced-learn->imblearn) (1.1.2)\n"
     ]
    }
   ],
   "source": [
    "!pip install imblearn"
   ]
  },
  {
   "cell_type": "markdown",
   "metadata": {},
   "source": [
    "<span style='background:yellow'>After installed  imblearn library, importing SMOTE from it.</span>"
   ]
  },
  {
   "cell_type": "code",
   "execution_count": 41,
   "metadata": {},
   "outputs": [],
   "source": [
    "from imblearn.over_sampling import SMOTE"
   ]
  },
  {
   "cell_type": "markdown",
   "metadata": {},
   "source": [
    "<span style='background:yellow'>Increasing the minor class data of churn to balance the dataset from SMOTE.</span>"
   ]
  },
  {
   "cell_type": "code",
   "execution_count": 42,
   "metadata": {
    "scrolled": true
   },
   "outputs": [
    {
     "data": {
      "text/plain": [
       "0    5151\n",
       "1    5151\n",
       "Name: churn, dtype: int64"
      ]
     },
     "execution_count": 42,
     "metadata": {},
     "output_type": "execute_result"
    }
   ],
   "source": [
    "smote = SMOTE(sampling_strategy='minority')\n",
    "x_samp, y_samp = smote.fit_resample(x, y)\n",
    "\n",
    "y_samp.value_counts()"
   ]
  },
  {
   "cell_type": "markdown",
   "metadata": {},
   "source": [
    "<span style='background:yellow'>Categorized newly generated balanced dataset as 15% for test data and the rest 85% as the train data.</span>"
   ]
  },
  {
   "cell_type": "code",
   "execution_count": 43,
   "metadata": {},
   "outputs": [],
   "source": [
    "from sklearn.model_selection import train_test_split\n",
    "x_train, x_test, y_train, y_test = train_test_split(x_samp, y_samp, test_size=0.15, random_state=15, stratify=y_samp)"
   ]
  },
  {
   "cell_type": "code",
   "execution_count": 44,
   "metadata": {
    "scrolled": false
   },
   "outputs": [
    {
     "data": {
      "text/plain": [
       "0    773\n",
       "1    773\n",
       "Name: churn, dtype: int64"
      ]
     },
     "execution_count": 44,
     "metadata": {},
     "output_type": "execute_result"
    }
   ],
   "source": [
    "y_test.value_counts()"
   ]
  },
  {
   "cell_type": "code",
   "execution_count": 45,
   "metadata": {},
   "outputs": [
    {
     "data": {
      "text/plain": [
       "1    4378\n",
       "0    4378\n",
       "Name: churn, dtype: int64"
      ]
     },
     "execution_count": 45,
     "metadata": {},
     "output_type": "execute_result"
    }
   ],
   "source": [
    "y_train.value_counts()"
   ]
  },
  {
   "cell_type": "markdown",
   "metadata": {},
   "source": [
    "Describe methods used and justify."
   ]
  },
  {
   "cell_type": "markdown",
   "metadata": {},
   "source": [
    "### Part (e)\n",
    "#### Train ML model to predict churn"
   ]
  },
  {
   "cell_type": "markdown",
   "metadata": {},
   "source": [
    "<span style='background:yellow'>Importing tensorflow and keras libraries.</span>"
   ]
  },
  {
   "cell_type": "code",
   "execution_count": 46,
   "metadata": {},
   "outputs": [],
   "source": [
    "import tensorflow as tf\n",
    "from tensorflow import keras"
   ]
  },
  {
   "cell_type": "markdown",
   "metadata": {},
   "source": [
    "<span style='background:yellow'>Setting a Sequencial model by passing list of layer instances. In the first layer set the input_shape argument and set activation function as 'relu'. Second layer also setting the activation function as 'relu' and in the third layer use activation function as 'sigmoid'. </span>"
   ]
  },
  {
   "cell_type": "markdown",
   "metadata": {},
   "source": [
    "<span style='background:yellow'>Compile method used to configure the learning process before training. Here used 'adam' as optimizer. Also due to a binary classification problem here used loss as 'binary_crossentropy'.</span>"
   ]
  },
  {
   "cell_type": "markdown",
   "metadata": {},
   "source": [
    "<span style='background:yellow'>Training the model by 'fit' function to 200 epochs.</span>"
   ]
  },
  {
   "cell_type": "code",
   "execution_count": 47,
   "metadata": {},
   "outputs": [
    {
     "name": "stdout",
     "output_type": "stream",
     "text": [
      "Epoch 1/200\n",
      "274/274 [==============================] - 3s 4ms/step - loss: 0.5306 - accuracy: 0.7493\n",
      "Epoch 2/200\n",
      "274/274 [==============================] - 1s 4ms/step - loss: 0.4785 - accuracy: 0.7687\n",
      "Epoch 3/200\n",
      "274/274 [==============================] - 1s 3ms/step - loss: 0.4713 - accuracy: 0.7707\n",
      "Epoch 4/200\n",
      "274/274 [==============================] - 1s 3ms/step - loss: 0.4651 - accuracy: 0.7716\n",
      "Epoch 5/200\n",
      "274/274 [==============================] - 1s 3ms/step - loss: 0.4595 - accuracy: 0.7787\n",
      "Epoch 6/200\n",
      "274/274 [==============================] - 1s 3ms/step - loss: 0.4551 - accuracy: 0.7804\n",
      "Epoch 7/200\n",
      "274/274 [==============================] - 1s 4ms/step - loss: 0.4509 - accuracy: 0.7789\n",
      "Epoch 8/200\n",
      "274/274 [==============================] - 1s 3ms/step - loss: 0.4480 - accuracy: 0.7820\n",
      "Epoch 9/200\n",
      "274/274 [==============================] - 1s 4ms/step - loss: 0.4455 - accuracy: 0.7831\n",
      "Epoch 10/200\n",
      "274/274 [==============================] - 1s 4ms/step - loss: 0.4424 - accuracy: 0.7865\n",
      "Epoch 11/200\n",
      "274/274 [==============================] - 1s 4ms/step - loss: 0.4390 - accuracy: 0.7872\n",
      "Epoch 12/200\n",
      "274/274 [==============================] - 1s 4ms/step - loss: 0.4364 - accuracy: 0.7916\n",
      "Epoch 13/200\n",
      "274/274 [==============================] - 1s 5ms/step - loss: 0.4342 - accuracy: 0.7927\n",
      "Epoch 14/200\n",
      "274/274 [==============================] - 1s 5ms/step - loss: 0.4314 - accuracy: 0.7939\n",
      "Epoch 15/200\n",
      "274/274 [==============================] - 1s 5ms/step - loss: 0.4291 - accuracy: 0.7964\n",
      "Epoch 16/200\n",
      "274/274 [==============================] - 1s 5ms/step - loss: 0.4267 - accuracy: 0.7981\n",
      "Epoch 17/200\n",
      "274/274 [==============================] - 1s 5ms/step - loss: 0.4241 - accuracy: 0.7976\n",
      "Epoch 18/200\n",
      "274/274 [==============================] - 1s 5ms/step - loss: 0.4214 - accuracy: 0.8006\n",
      "Epoch 19/200\n",
      "274/274 [==============================] - 1s 5ms/step - loss: 0.4205 - accuracy: 0.8015\n",
      "Epoch 20/200\n",
      "274/274 [==============================] - 1s 5ms/step - loss: 0.4192 - accuracy: 0.8006\n",
      "Epoch 21/200\n",
      "274/274 [==============================] - 1s 5ms/step - loss: 0.4163 - accuracy: 0.8042\n",
      "Epoch 22/200\n",
      "274/274 [==============================] - 1s 5ms/step - loss: 0.4143 - accuracy: 0.8073\n",
      "Epoch 23/200\n",
      "274/274 [==============================] - 1s 5ms/step - loss: 0.4128 - accuracy: 0.8049\n",
      "Epoch 24/200\n",
      "274/274 [==============================] - 1s 5ms/step - loss: 0.4109 - accuracy: 0.8070\n",
      "Epoch 25/200\n",
      "274/274 [==============================] - 1s 5ms/step - loss: 0.4107 - accuracy: 0.8077\n",
      "Epoch 26/200\n",
      "274/274 [==============================] - 1s 5ms/step - loss: 0.4081 - accuracy: 0.8118\n",
      "Epoch 27/200\n",
      "274/274 [==============================] - 1s 5ms/step - loss: 0.4062 - accuracy: 0.8129\n",
      "Epoch 28/200\n",
      "274/274 [==============================] - 1s 5ms/step - loss: 0.4051 - accuracy: 0.8133\n",
      "Epoch 29/200\n",
      "274/274 [==============================] - 1s 5ms/step - loss: 0.4045 - accuracy: 0.8125\n",
      "Epoch 30/200\n",
      "274/274 [==============================] - 1s 5ms/step - loss: 0.4033 - accuracy: 0.8125\n",
      "Epoch 31/200\n",
      "274/274 [==============================] - 1s 5ms/step - loss: 0.4022 - accuracy: 0.8146\n",
      "Epoch 32/200\n",
      "274/274 [==============================] - 1s 5ms/step - loss: 0.3997 - accuracy: 0.8166\n",
      "Epoch 33/200\n",
      "274/274 [==============================] - 1s 5ms/step - loss: 0.3992 - accuracy: 0.8154\n",
      "Epoch 34/200\n",
      "274/274 [==============================] - 1s 5ms/step - loss: 0.3974 - accuracy: 0.8172\n",
      "Epoch 35/200\n",
      "274/274 [==============================] - 1s 5ms/step - loss: 0.3979 - accuracy: 0.8180\n",
      "Epoch 36/200\n",
      "274/274 [==============================] - 1s 5ms/step - loss: 0.3982 - accuracy: 0.8158\n",
      "Epoch 37/200\n",
      "274/274 [==============================] - 1s 5ms/step - loss: 0.3946 - accuracy: 0.8202\n",
      "Epoch 38/200\n",
      "274/274 [==============================] - 1s 5ms/step - loss: 0.3943 - accuracy: 0.8215\n",
      "Epoch 39/200\n",
      "274/274 [==============================] - 1s 5ms/step - loss: 0.3940 - accuracy: 0.8193\n",
      "Epoch 40/200\n",
      "274/274 [==============================] - 1s 5ms/step - loss: 0.3931 - accuracy: 0.8213\n",
      "Epoch 41/200\n",
      "274/274 [==============================] - 1s 5ms/step - loss: 0.3927 - accuracy: 0.8216\n",
      "Epoch 42/200\n",
      "274/274 [==============================] - 1s 5ms/step - loss: 0.3916 - accuracy: 0.8200\n",
      "Epoch 43/200\n",
      "274/274 [==============================] - 1s 5ms/step - loss: 0.3924 - accuracy: 0.8232\n",
      "Epoch 44/200\n",
      "274/274 [==============================] - 1s 5ms/step - loss: 0.3903 - accuracy: 0.8218\n",
      "Epoch 45/200\n",
      "274/274 [==============================] - 1s 5ms/step - loss: 0.3902 - accuracy: 0.8215\n",
      "Epoch 46/200\n",
      "274/274 [==============================] - 1s 5ms/step - loss: 0.3895 - accuracy: 0.8234\n",
      "Epoch 47/200\n",
      "274/274 [==============================] - 1s 5ms/step - loss: 0.3899 - accuracy: 0.8229\n",
      "Epoch 48/200\n",
      "274/274 [==============================] - 1s 5ms/step - loss: 0.3872 - accuracy: 0.8247\n",
      "Epoch 49/200\n",
      "274/274 [==============================] - 1s 5ms/step - loss: 0.3858 - accuracy: 0.8253\n",
      "Epoch 50/200\n",
      "274/274 [==============================] - 1s 5ms/step - loss: 0.3878 - accuracy: 0.8235\n",
      "Epoch 51/200\n",
      "274/274 [==============================] - 1s 5ms/step - loss: 0.3854 - accuracy: 0.8251\n",
      "Epoch 52/200\n",
      "274/274 [==============================] - 1s 5ms/step - loss: 0.3843 - accuracy: 0.8274\n",
      "Epoch 53/200\n",
      "274/274 [==============================] - 1s 5ms/step - loss: 0.3853 - accuracy: 0.8245\n",
      "Epoch 54/200\n",
      "274/274 [==============================] - 1s 5ms/step - loss: 0.3835 - accuracy: 0.8262\n",
      "Epoch 55/200\n",
      "274/274 [==============================] - 1s 5ms/step - loss: 0.3829 - accuracy: 0.8275\n",
      "Epoch 56/200\n",
      "274/274 [==============================] - 1s 5ms/step - loss: 0.3824 - accuracy: 0.8254\n",
      "Epoch 57/200\n",
      "274/274 [==============================] - 1s 5ms/step - loss: 0.3819 - accuracy: 0.8310\n",
      "Epoch 58/200\n",
      "274/274 [==============================] - 1s 5ms/step - loss: 0.3821 - accuracy: 0.8262\n",
      "Epoch 59/200\n",
      "274/274 [==============================] - 1s 5ms/step - loss: 0.3826 - accuracy: 0.8269\n",
      "Epoch 60/200\n",
      "274/274 [==============================] - 1s 5ms/step - loss: 0.3805 - accuracy: 0.8277\n",
      "Epoch 61/200\n",
      "274/274 [==============================] - 1s 5ms/step - loss: 0.3808 - accuracy: 0.8298\n",
      "Epoch 62/200\n",
      "274/274 [==============================] - 1s 5ms/step - loss: 0.3803 - accuracy: 0.8313\n",
      "Epoch 63/200\n",
      "274/274 [==============================] - 1s 5ms/step - loss: 0.3793 - accuracy: 0.8286\n",
      "Epoch 64/200\n",
      "274/274 [==============================] - 1s 5ms/step - loss: 0.3802 - accuracy: 0.8301\n",
      "Epoch 65/200\n",
      "274/274 [==============================] - 1s 5ms/step - loss: 0.3786 - accuracy: 0.8304\n",
      "Epoch 66/200\n",
      "274/274 [==============================] - 1s 5ms/step - loss: 0.3782 - accuracy: 0.8293\n",
      "Epoch 67/200\n",
      "274/274 [==============================] - 1s 5ms/step - loss: 0.3773 - accuracy: 0.8281\n",
      "Epoch 68/200\n",
      "274/274 [==============================] - 1s 5ms/step - loss: 0.3764 - accuracy: 0.8303\n",
      "Epoch 69/200\n",
      "274/274 [==============================] - 1s 5ms/step - loss: 0.3760 - accuracy: 0.8301\n",
      "Epoch 70/200\n",
      "274/274 [==============================] - 1s 5ms/step - loss: 0.3751 - accuracy: 0.8317\n",
      "Epoch 71/200\n",
      "274/274 [==============================] - 1s 5ms/step - loss: 0.3747 - accuracy: 0.8313\n",
      "Epoch 72/200\n",
      "274/274 [==============================] - 1s 5ms/step - loss: 0.3736 - accuracy: 0.8336\n",
      "Epoch 73/200\n",
      "274/274 [==============================] - 1s 5ms/step - loss: 0.3766 - accuracy: 0.8326\n",
      "Epoch 74/200\n",
      "274/274 [==============================] - 1s 5ms/step - loss: 0.3731 - accuracy: 0.8318\n",
      "Epoch 75/200\n",
      "274/274 [==============================] - 1s 5ms/step - loss: 0.3750 - accuracy: 0.8310\n",
      "Epoch 76/200\n",
      "274/274 [==============================] - 1s 5ms/step - loss: 0.3720 - accuracy: 0.8333\n",
      "Epoch 77/200\n",
      "274/274 [==============================] - 1s 5ms/step - loss: 0.3719 - accuracy: 0.8337\n",
      "Epoch 78/200\n",
      "274/274 [==============================] - 1s 5ms/step - loss: 0.3732 - accuracy: 0.8312\n",
      "Epoch 79/200\n",
      "274/274 [==============================] - 1s 5ms/step - loss: 0.3721 - accuracy: 0.8336\n",
      "Epoch 80/200\n",
      "274/274 [==============================] - 1s 5ms/step - loss: 0.3724 - accuracy: 0.8336\n",
      "Epoch 81/200\n",
      "274/274 [==============================] - 1s 5ms/step - loss: 0.3723 - accuracy: 0.8329\n",
      "Epoch 82/200\n",
      "274/274 [==============================] - 1s 5ms/step - loss: 0.3691 - accuracy: 0.8367\n",
      "Epoch 83/200\n",
      "274/274 [==============================] - 1s 4ms/step - loss: 0.3711 - accuracy: 0.8346\n",
      "Epoch 84/200\n",
      "274/274 [==============================] - 1s 5ms/step - loss: 0.3688 - accuracy: 0.8343\n",
      "Epoch 85/200\n",
      "274/274 [==============================] - 1s 5ms/step - loss: 0.3696 - accuracy: 0.8342\n",
      "Epoch 86/200\n",
      "274/274 [==============================] - 1s 5ms/step - loss: 0.3673 - accuracy: 0.8360\n",
      "Epoch 87/200\n",
      "274/274 [==============================] - 1s 5ms/step - loss: 0.3688 - accuracy: 0.8359\n",
      "Epoch 88/200\n",
      "274/274 [==============================] - 1s 5ms/step - loss: 0.3673 - accuracy: 0.8352\n",
      "Epoch 89/200\n",
      "274/274 [==============================] - 1s 5ms/step - loss: 0.3696 - accuracy: 0.8376\n",
      "Epoch 90/200\n",
      "274/274 [==============================] - 1s 5ms/step - loss: 0.3666 - accuracy: 0.8352\n",
      "Epoch 91/200\n",
      "274/274 [==============================] - 1s 5ms/step - loss: 0.3675 - accuracy: 0.8361\n",
      "Epoch 92/200\n",
      "274/274 [==============================] - 1s 5ms/step - loss: 0.3663 - accuracy: 0.8338\n",
      "Epoch 93/200\n",
      "274/274 [==============================] - 1s 5ms/step - loss: 0.3674 - accuracy: 0.8350\n",
      "Epoch 94/200\n",
      "274/274 [==============================] - 1s 5ms/step - loss: 0.3658 - accuracy: 0.8351\n",
      "Epoch 95/200\n",
      "274/274 [==============================] - 1s 5ms/step - loss: 0.3676 - accuracy: 0.8370\n",
      "Epoch 96/200\n",
      "274/274 [==============================] - 1s 5ms/step - loss: 0.3646 - accuracy: 0.8375\n",
      "Epoch 97/200\n",
      "274/274 [==============================] - 1s 5ms/step - loss: 0.3637 - accuracy: 0.8397\n",
      "Epoch 98/200\n",
      "274/274 [==============================] - 1s 5ms/step - loss: 0.3665 - accuracy: 0.8347\n",
      "Epoch 99/200\n",
      "274/274 [==============================] - 1s 5ms/step - loss: 0.3642 - accuracy: 0.8373\n",
      "Epoch 100/200\n",
      "274/274 [==============================] - 1s 5ms/step - loss: 0.3631 - accuracy: 0.8395\n",
      "Epoch 101/200\n",
      "274/274 [==============================] - 1s 5ms/step - loss: 0.3638 - accuracy: 0.8378\n",
      "Epoch 102/200\n",
      "274/274 [==============================] - 1s 5ms/step - loss: 0.3632 - accuracy: 0.8386\n",
      "Epoch 103/200\n",
      "274/274 [==============================] - 1s 5ms/step - loss: 0.3624 - accuracy: 0.8376\n",
      "Epoch 104/200\n",
      "274/274 [==============================] - 1s 5ms/step - loss: 0.3620 - accuracy: 0.8402\n",
      "Epoch 105/200\n",
      "274/274 [==============================] - 1s 5ms/step - loss: 0.3620 - accuracy: 0.8399\n",
      "Epoch 106/200\n",
      "274/274 [==============================] - 1s 5ms/step - loss: 0.3617 - accuracy: 0.8407\n",
      "Epoch 107/200\n",
      "274/274 [==============================] - 1s 5ms/step - loss: 0.3613 - accuracy: 0.8395\n",
      "Epoch 108/200\n",
      "274/274 [==============================] - 1s 4ms/step - loss: 0.3601 - accuracy: 0.8415\n",
      "Epoch 109/200\n",
      "274/274 [==============================] - 1s 3ms/step - loss: 0.3612 - accuracy: 0.8384\n",
      "Epoch 110/200\n",
      "274/274 [==============================] - 1s 4ms/step - loss: 0.3611 - accuracy: 0.8419\n",
      "Epoch 111/200\n",
      "274/274 [==============================] - 1s 4ms/step - loss: 0.3619 - accuracy: 0.8425\n",
      "Epoch 112/200\n",
      "274/274 [==============================] - 1s 4ms/step - loss: 0.3606 - accuracy: 0.8370\n",
      "Epoch 113/200\n",
      "274/274 [==============================] - 1s 4ms/step - loss: 0.3598 - accuracy: 0.8407\n",
      "Epoch 114/200\n",
      "274/274 [==============================] - 1s 5ms/step - loss: 0.3588 - accuracy: 0.8409\n",
      "Epoch 115/200\n",
      "274/274 [==============================] - 1s 5ms/step - loss: 0.3601 - accuracy: 0.8402\n",
      "Epoch 116/200\n",
      "274/274 [==============================] - 1s 5ms/step - loss: 0.3585 - accuracy: 0.8407\n",
      "Epoch 117/200\n",
      "274/274 [==============================] - 1s 5ms/step - loss: 0.3597 - accuracy: 0.8405\n",
      "Epoch 118/200\n",
      "274/274 [==============================] - 1s 5ms/step - loss: 0.3588 - accuracy: 0.8392\n",
      "Epoch 119/200\n",
      "274/274 [==============================] - 1s 5ms/step - loss: 0.3580 - accuracy: 0.8403\n",
      "Epoch 120/200\n",
      "274/274 [==============================] - 1s 5ms/step - loss: 0.3578 - accuracy: 0.8413\n",
      "Epoch 121/200\n",
      "274/274 [==============================] - 1s 5ms/step - loss: 0.3583 - accuracy: 0.8394\n",
      "Epoch 122/200\n",
      "274/274 [==============================] - 1s 5ms/step - loss: 0.3588 - accuracy: 0.8366\n",
      "Epoch 123/200\n",
      "274/274 [==============================] - 2s 6ms/step - loss: 0.3586 - accuracy: 0.8393\n",
      "Epoch 124/200\n",
      "274/274 [==============================] - 2s 6ms/step - loss: 0.3577 - accuracy: 0.8440\n",
      "Epoch 125/200\n",
      "274/274 [==============================] - 2s 6ms/step - loss: 0.3556 - accuracy: 0.8437\n",
      "Epoch 126/200\n",
      "274/274 [==============================] - 1s 5ms/step - loss: 0.3564 - accuracy: 0.8402\n",
      "Epoch 127/200\n",
      "274/274 [==============================] - 1s 5ms/step - loss: 0.3559 - accuracy: 0.8391\n",
      "Epoch 128/200\n",
      "274/274 [==============================] - 1s 5ms/step - loss: 0.3542 - accuracy: 0.8408\n",
      "Epoch 129/200\n",
      "274/274 [==============================] - 1s 5ms/step - loss: 0.3560 - accuracy: 0.8413\n",
      "Epoch 130/200\n",
      "274/274 [==============================] - 1s 5ms/step - loss: 0.3546 - accuracy: 0.8422\n",
      "Epoch 131/200\n",
      "274/274 [==============================] - 1s 5ms/step - loss: 0.3545 - accuracy: 0.8439\n",
      "Epoch 132/200\n",
      "274/274 [==============================] - 1s 5ms/step - loss: 0.3548 - accuracy: 0.8438\n",
      "Epoch 133/200\n",
      "274/274 [==============================] - 1s 5ms/step - loss: 0.3557 - accuracy: 0.8441\n",
      "Epoch 134/200\n",
      "274/274 [==============================] - 1s 5ms/step - loss: 0.3560 - accuracy: 0.8437\n",
      "Epoch 135/200\n",
      "274/274 [==============================] - 1s 5ms/step - loss: 0.3533 - accuracy: 0.8415\n",
      "Epoch 136/200\n",
      "274/274 [==============================] - 2s 6ms/step - loss: 0.3532 - accuracy: 0.8437\n",
      "Epoch 137/200\n",
      "274/274 [==============================] - 2s 6ms/step - loss: 0.3540 - accuracy: 0.8435\n",
      "Epoch 138/200\n",
      "274/274 [==============================] - 2s 6ms/step - loss: 0.3531 - accuracy: 0.8426\n",
      "Epoch 139/200\n",
      "274/274 [==============================] - 1s 5ms/step - loss: 0.3521 - accuracy: 0.8416\n",
      "Epoch 140/200\n",
      "274/274 [==============================] - 1s 5ms/step - loss: 0.3539 - accuracy: 0.8413\n",
      "Epoch 141/200\n",
      "274/274 [==============================] - 1s 5ms/step - loss: 0.3538 - accuracy: 0.8426\n",
      "Epoch 142/200\n",
      "274/274 [==============================] - 1s 5ms/step - loss: 0.3548 - accuracy: 0.8441\n",
      "Epoch 143/200\n",
      "274/274 [==============================] - 1s 5ms/step - loss: 0.3515 - accuracy: 0.8426\n",
      "Epoch 144/200\n",
      "274/274 [==============================] - 1s 5ms/step - loss: 0.3520 - accuracy: 0.8466\n",
      "Epoch 145/200\n",
      "274/274 [==============================] - 1s 5ms/step - loss: 0.3508 - accuracy: 0.8449\n",
      "Epoch 146/200\n",
      "274/274 [==============================] - 1s 5ms/step - loss: 0.3506 - accuracy: 0.8442\n",
      "Epoch 147/200\n",
      "274/274 [==============================] - 1s 5ms/step - loss: 0.3505 - accuracy: 0.8434\n",
      "Epoch 148/200\n",
      "274/274 [==============================] - 1s 5ms/step - loss: 0.3522 - accuracy: 0.8427\n",
      "Epoch 149/200\n",
      "274/274 [==============================] - 1s 5ms/step - loss: 0.3502 - accuracy: 0.8416\n",
      "Epoch 150/200\n",
      "274/274 [==============================] - 1s 5ms/step - loss: 0.3491 - accuracy: 0.8471\n",
      "Epoch 151/200\n",
      "274/274 [==============================] - 1s 5ms/step - loss: 0.3503 - accuracy: 0.8422\n",
      "Epoch 152/200\n",
      "274/274 [==============================] - 1s 5ms/step - loss: 0.3499 - accuracy: 0.8432\n",
      "Epoch 153/200\n",
      "274/274 [==============================] - 1s 5ms/step - loss: 0.3508 - accuracy: 0.8431\n",
      "Epoch 154/200\n",
      "274/274 [==============================] - 1s 5ms/step - loss: 0.3507 - accuracy: 0.8451\n",
      "Epoch 155/200\n",
      "274/274 [==============================] - 1s 5ms/step - loss: 0.3502 - accuracy: 0.8410\n",
      "Epoch 156/200\n",
      "274/274 [==============================] - 1s 5ms/step - loss: 0.3483 - accuracy: 0.8486\n",
      "Epoch 157/200\n",
      "274/274 [==============================] - 1s 5ms/step - loss: 0.3480 - accuracy: 0.8442\n",
      "Epoch 158/200\n",
      "274/274 [==============================] - 1s 5ms/step - loss: 0.3487 - accuracy: 0.8447\n",
      "Epoch 159/200\n",
      "274/274 [==============================] - 1s 5ms/step - loss: 0.3483 - accuracy: 0.8451\n",
      "Epoch 160/200\n"
     ]
    },
    {
     "name": "stdout",
     "output_type": "stream",
     "text": [
      "274/274 [==============================] - 1s 4ms/step - loss: 0.3455 - accuracy: 0.8460\n",
      "Epoch 161/200\n",
      "274/274 [==============================] - 1s 5ms/step - loss: 0.3470 - accuracy: 0.8460\n",
      "Epoch 162/200\n",
      "274/274 [==============================] - 1s 5ms/step - loss: 0.3489 - accuracy: 0.8441\n",
      "Epoch 163/200\n",
      "274/274 [==============================] - 1s 5ms/step - loss: 0.3506 - accuracy: 0.8431\n",
      "Epoch 164/200\n",
      "274/274 [==============================] - 1s 5ms/step - loss: 0.3460 - accuracy: 0.8473\n",
      "Epoch 165/200\n",
      "274/274 [==============================] - 1s 5ms/step - loss: 0.3463 - accuracy: 0.8466\n",
      "Epoch 166/200\n",
      "274/274 [==============================] - 2s 6ms/step - loss: 0.3462 - accuracy: 0.8471\n",
      "Epoch 167/200\n",
      "274/274 [==============================] - 1s 5ms/step - loss: 0.3464 - accuracy: 0.8467\n",
      "Epoch 168/200\n",
      "274/274 [==============================] - 1s 5ms/step - loss: 0.3475 - accuracy: 0.8475\n",
      "Epoch 169/200\n",
      "274/274 [==============================] - 1s 5ms/step - loss: 0.3473 - accuracy: 0.8476\n",
      "Epoch 170/200\n",
      "274/274 [==============================] - 1s 5ms/step - loss: 0.3499 - accuracy: 0.8457\n",
      "Epoch 171/200\n",
      "274/274 [==============================] - 1s 5ms/step - loss: 0.3449 - accuracy: 0.8482\n",
      "Epoch 172/200\n",
      "274/274 [==============================] - 1s 5ms/step - loss: 0.3454 - accuracy: 0.8464\n",
      "Epoch 173/200\n",
      "274/274 [==============================] - 1s 5ms/step - loss: 0.3466 - accuracy: 0.8475\n",
      "Epoch 174/200\n",
      "274/274 [==============================] - 1s 5ms/step - loss: 0.3453 - accuracy: 0.8431\n",
      "Epoch 175/200\n",
      "274/274 [==============================] - 1s 5ms/step - loss: 0.3474 - accuracy: 0.8454\n",
      "Epoch 176/200\n",
      "274/274 [==============================] - 1s 5ms/step - loss: 0.3453 - accuracy: 0.8448\n",
      "Epoch 177/200\n",
      "274/274 [==============================] - 1s 5ms/step - loss: 0.3448 - accuracy: 0.8492\n",
      "Epoch 178/200\n",
      "274/274 [==============================] - 1s 5ms/step - loss: 0.3451 - accuracy: 0.8478\n",
      "Epoch 179/200\n",
      "274/274 [==============================] - 1s 5ms/step - loss: 0.3462 - accuracy: 0.8467\n",
      "Epoch 180/200\n",
      "274/274 [==============================] - 1s 5ms/step - loss: 0.3444 - accuracy: 0.8488\n",
      "Epoch 181/200\n",
      "274/274 [==============================] - 1s 5ms/step - loss: 0.3429 - accuracy: 0.8492\n",
      "Epoch 182/200\n",
      "274/274 [==============================] - 1s 5ms/step - loss: 0.3439 - accuracy: 0.8500\n",
      "Epoch 183/200\n",
      "274/274 [==============================] - 1s 5ms/step - loss: 0.3449 - accuracy: 0.8464\n",
      "Epoch 184/200\n",
      "274/274 [==============================] - 1s 5ms/step - loss: 0.3447 - accuracy: 0.8489\n",
      "Epoch 185/200\n",
      "274/274 [==============================] - 1s 5ms/step - loss: 0.3420 - accuracy: 0.8466\n",
      "Epoch 186/200\n",
      "274/274 [==============================] - 1s 5ms/step - loss: 0.3431 - accuracy: 0.8468\n",
      "Epoch 187/200\n",
      "274/274 [==============================] - 1s 5ms/step - loss: 0.3441 - accuracy: 0.8451\n",
      "Epoch 188/200\n",
      "274/274 [==============================] - 1s 5ms/step - loss: 0.3434 - accuracy: 0.8449\n",
      "Epoch 189/200\n",
      "274/274 [==============================] - 1s 5ms/step - loss: 0.3435 - accuracy: 0.8458\n",
      "Epoch 190/200\n",
      "274/274 [==============================] - 1s 5ms/step - loss: 0.3416 - accuracy: 0.8490\n",
      "Epoch 191/200\n",
      "274/274 [==============================] - 1s 5ms/step - loss: 0.3413 - accuracy: 0.8507\n",
      "Epoch 192/200\n",
      "274/274 [==============================] - 1s 5ms/step - loss: 0.3418 - accuracy: 0.8481\n",
      "Epoch 193/200\n",
      "274/274 [==============================] - 1s 5ms/step - loss: 0.3413 - accuracy: 0.8506\n",
      "Epoch 194/200\n",
      "274/274 [==============================] - 1s 5ms/step - loss: 0.3438 - accuracy: 0.8505\n",
      "Epoch 195/200\n",
      "274/274 [==============================] - 1s 5ms/step - loss: 0.3413 - accuracy: 0.8492\n",
      "Epoch 196/200\n",
      "274/274 [==============================] - 1s 5ms/step - loss: 0.3416 - accuracy: 0.8472\n",
      "Epoch 197/200\n",
      "274/274 [==============================] - 1s 5ms/step - loss: 0.3443 - accuracy: 0.8482\n",
      "Epoch 198/200\n",
      "274/274 [==============================] - 1s 5ms/step - loss: 0.3432 - accuracy: 0.8475\n",
      "Epoch 199/200\n",
      "274/274 [==============================] - 1s 5ms/step - loss: 0.3405 - accuracy: 0.8507\n",
      "Epoch 200/200\n",
      "274/274 [==============================] - 2s 6ms/step - loss: 0.3405 - accuracy: 0.8482\n"
     ]
    },
    {
     "data": {
      "text/plain": [
       "<keras.callbacks.History at 0x1d5f2620490>"
      ]
     },
     "execution_count": 47,
     "metadata": {},
     "output_type": "execute_result"
    }
   ],
   "source": [
    "model = keras.Sequential([\n",
    "    keras.layers.Dense(26, input_shape=(26,), activation='relu'),\n",
    "    keras.layers.Dense(15, activation='relu'),\n",
    "    keras.layers.Dense(1, activation='sigmoid')\n",
    "])\n",
    "\n",
    "model.compile(optimizer='adam',\n",
    "              loss='binary_crossentropy',\n",
    "              metrics=['accuracy'])\n",
    "\n",
    "model.fit(x_train, y_train, epochs=200)"
   ]
  },
  {
   "cell_type": "markdown",
   "metadata": {},
   "source": [
    "<span style='background:yellow'>End of the 200 epochs training the accuracy is 0.8495 and its a good accuracy.</span>"
   ]
  },
  {
   "cell_type": "markdown",
   "metadata": {},
   "source": [
    "Describe what happened and elaborate on model performance"
   ]
  },
  {
   "cell_type": "markdown",
   "metadata": {},
   "source": [
    "### Answer (f)\n",
    "\n",
    "Train an ANN model"
   ]
  },
  {
   "cell_type": "markdown",
   "metadata": {},
   "source": [
    "<span style='background:yellow'>Computing the loss and accuracy for test data.</span>"
   ]
  },
  {
   "cell_type": "code",
   "execution_count": 83,
   "metadata": {
    "scrolled": true
   },
   "outputs": [
    {
     "name": "stdout",
     "output_type": "stream",
     "text": [
      "49/49 [==============================] - 0s 3ms/step - loss: 0.4483 - accuracy: 0.8072\n"
     ]
    },
    {
     "data": {
      "text/plain": [
       "[0.448289692401886, 0.8072444796562195]"
      ]
     },
     "execution_count": 83,
     "metadata": {},
     "output_type": "execute_result"
    }
   ],
   "source": [
    "model.evaluate(x_test, y_test)"
   ]
  },
  {
   "cell_type": "markdown",
   "metadata": {},
   "source": [
    "<span style='background:yellow'>Setting the output according to the accuracy.</span>"
   ]
  },
  {
   "cell_type": "code",
   "execution_count": 84,
   "metadata": {},
   "outputs": [
    {
     "name": "stdout",
     "output_type": "stream",
     "text": [
      "49/49 [==============================] - 0s 1ms/step\n"
     ]
    }
   ],
   "source": [
    "y_p = model.predict(x_test)\n",
    "\n",
    "y_predict = []\n",
    "for element in y_p:\n",
    "    if element > 0.5:\n",
    "        y_predict.append(1)\n",
    "    else:\n",
    "        y_predict.append(0)"
   ]
  },
  {
   "cell_type": "markdown",
   "metadata": {},
   "source": [
    "<span style='background:yellow'>Compute precision, recall, F-measurement and support for the each class.</span>"
   ]
  },
  {
   "cell_type": "code",
   "execution_count": 85,
   "metadata": {
    "scrolled": true
   },
   "outputs": [
    {
     "name": "stdout",
     "output_type": "stream",
     "text": [
      "              precision    recall  f1-score   support\n",
      "\n",
      "           0       0.85      0.75      0.80       773\n",
      "           1       0.78      0.87      0.82       773\n",
      "\n",
      "    accuracy                           0.81      1546\n",
      "   macro avg       0.81      0.81      0.81      1546\n",
      "weighted avg       0.81      0.81      0.81      1546\n",
      "\n"
     ]
    }
   ],
   "source": [
    "from sklearn.metrics import confusion_matrix , classification_report\n",
    "print(classification_report(y_test,y_predict))"
   ]
  },
  {
   "cell_type": "markdown",
   "metadata": {},
   "source": [
    "<span style='background:yellow'>Heat map graphing for input test data and their output data.</span>"
   ]
  },
  {
   "cell_type": "code",
   "execution_count": 106,
   "metadata": {
    "scrolled": false
   },
   "outputs": [
    {
     "data": {
      "text/plain": [
       "Text(33.0, 0.5, 'Truth')"
      ]
     },
     "execution_count": 106,
     "metadata": {},
     "output_type": "execute_result"
    },
    {
     "data": {
      "image/png": "[encoded data removed]",
      "text/plain": [
       "<Figure size 432x360 with 2 Axes>"
      ]
     },
     "metadata": {
      "needs_background": "light"
     },
     "output_type": "display_data"
    }
   ],
   "source": [
    "from matplotlib import pyplot as plt\n",
    "import seaborn as sn\n",
    "con_matrix = tf.math.confusion_matrix(labels=y_test,predictions=y_predict)\n",
    "\n",
    "plt.figure(figsize = (6,5))\n",
    "sn.heatmap(con_matrix, annot=True, fmt='d')\n",
    "plt.xlabel('Prediction')\n",
    "plt.ylabel('Truth')"
   ]
  },
  {
   "cell_type": "markdown",
   "metadata": {},
   "source": [
    "<span style='background:yellow'>Accuracy of the test data.</span>"
   ]
  },
  {
   "cell_type": "code",
   "execution_count": 86,
   "metadata": {},
   "outputs": [
    {
     "data": {
      "text/plain": [
       "0.8072445019404916"
      ]
     },
     "execution_count": 86,
     "metadata": {},
     "output_type": "execute_result"
    }
   ],
   "source": [
    "accuracy = (579+669)/(194+104+579+669)\n",
    "accuracy"
   ]
  },
  {
   "cell_type": "markdown",
   "metadata": {},
   "source": [
    "<span style='background:yellow'>In the 'e' step the accuracy was 0.8495. In that step measured the accuracy for the training data. At 'f' step the accuracy was measured for the test data and it was reduced to 0.81. Due to measured the accuracy for training data, accuracy was high at step 'e' than the accuracy for the test data (step 'f'). 0.81 is not a bad accuracy.</span>"
   ]
  },
  {
   "cell_type": "markdown",
   "metadata": {},
   "source": [
    "Describe what happened and elaborate on model performance. \n",
    "Compare (e) model performance with (f)."
   ]
  }
 ],
 "metadata": {
  "kernelspec": {
   "display_name": "Python 3 (ipykernel)",
   "language": "python",
   "name": "python3"
  },
  "language_info": {
   "codemirror_mode": {
    "name": "ipython",
    "version": 3
   },
   "file_extension": ".py",
   "mimetype": "text/x-python",
   "name": "python",
   "nbconvert_exporter": "python",
   "pygments_lexer": "ipython3",
   "version": "3.9.7"
  },
  "vscode": {
   "interpreter": {
    "hash": "8999ca217b2fa3fb8875d9227edfd6c20266cf632b7380cda2ffe3df3689d7c1"
   }
  }
 },
 "nbformat": 4,
 "nbformat_minor": 2
}
